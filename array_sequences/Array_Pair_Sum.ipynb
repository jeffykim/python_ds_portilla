{
 "cells": [
  {
   "cell_type": "markdown",
   "metadata": {},
   "source": [
    "Problem\n",
    "Given an integer array, output all the unique pairs that sum up to a specific value k.\n",
    "\n",
    "So the input:\n",
    "\n",
    "pair_sum([1,3,2,2],4)\n",
    "\n",
    "would return 2 pairs:\n",
    "\n",
    " (1,3)\n",
    " (2,2)\n"
   ]
  },
  {
   "cell_type": "code",
   "execution_count": 6,
   "metadata": {},
   "outputs": [],
   "source": [
    "def pair_sum(arr,k):\n",
    "    seen = set()\n",
    "    output = set()\n",
    "    for number in arr:\n",
    "        target = k- number\n",
    "        if target not in seen:\n",
    "            seen.add(number)\n",
    "        if target in seen:\n",
    "            output.add((target,number))\n",
    "    print( '\\n'.join(map(str,list(output))))\n",
    "    return len(output)\n",
    "        "
   ]
  },
  {
   "cell_type": "code",
   "execution_count": 7,
   "metadata": {},
   "outputs": [
    {
     "name": "stdout",
     "output_type": "stream",
     "text": [
      "(4, 6)\n",
      "(5, 5)\n",
      "(11, -1)\n",
      "(2, 8)\n",
      "(1, 9)\n",
      "(3, 7)\n",
      "(1, 2)\n",
      "(1, 3)\n",
      "(2, 2)\n",
      "ALL TEST CASES PASSED\n"
     ]
    }
   ],
   "source": [
    "\"\"\"\n",
    "RUN THIS CELL TO TEST YOUR SOLUTION\n",
    "\"\"\"\n",
    "from nose.tools import assert_equal\n",
    "\n",
    "class TestPair(object):\n",
    "    \n",
    "    def test(self,sol):\n",
    "        assert_equal(sol([1,9,2,8,3,7,4,6,5,5,13,14,11,13,-1],10),6)\n",
    "        assert_equal(sol([1,2,3,1],3),1)\n",
    "        assert_equal(sol([1,3,2,2],4),2)\n",
    "        print('ALL TEST CASES PASSED')\n",
    "        \n",
    "#Run tests\n",
    "t = TestPair()\n",
    "t.test(pair_sum)"
   ]
  },
  {
   "cell_type": "code",
   "execution_count": null,
   "metadata": {
    "collapsed": true
   },
   "outputs": [],
   "source": []
  }
 ],
 "metadata": {
  "kernelspec": {
   "display_name": "Python 3",
   "language": "python",
   "name": "python3"
  },
  "language_info": {
   "codemirror_mode": {
    "name": "ipython",
    "version": 3
   },
   "file_extension": ".py",
   "mimetype": "text/x-python",
   "name": "python",
   "nbconvert_exporter": "python",
   "pygments_lexer": "ipython3",
   "version": "3.7.4"
  }
 },
 "nbformat": 4,
 "nbformat_minor": 2
}
