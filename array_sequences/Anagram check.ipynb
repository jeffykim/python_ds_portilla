{
 "cells": [
  {
   "cell_type": "markdown",
   "metadata": {},
   "source": [
    "Anagram Check\n",
    "Anagram Check\n",
    "Problem\n",
    "Given two strings, check to see if they are anagrams. An anagram is when the two strings can be written using the exact same letters (so you can just rearrange the letters to get a different phrase or word).\n",
    "\n",
    "For example:\n",
    "\n",
    "\"public relations\" is an anagram of \"crap built on lies.\"\n",
    "\n",
    "\"clint eastwood\" is an anagram of \"old west action\"\n",
    "\n",
    "Note: Ignore spaces and capitalization. So \"d go\" is an anagram of \"God\" and \"dog\" and \"o d g\".\n",
    "\n",
    "https://leetcode.com/problems/valid-anagram/description/"
   ]
  },
  {
   "cell_type": "code",
   "execution_count": 3,
   "metadata": {
    "collapsed": true
   },
   "outputs": [],
   "source": [
    "def anagram(s,t):\n",
    "        s= s.replace(' ','')\n",
    "        t= t.replace(' ','')\n",
    "        \n",
    "        if(len(s) != len(t)):\n",
    "            return False\n",
    "        \n",
    "        s_list=[None]*len(s)\n",
    "        t_list=[None]*len(s)\n",
    "        \n",
    "        \n",
    "        for i in range(len(s)):\n",
    "            s_list[i] = s[i]\n",
    "            t_list[i] = t[i]\n",
    "            \n",
    "        s_list.sort()\n",
    "        t_list.sort()\n",
    "        \n",
    "        for i in range(len(s)):\n",
    "            if s_list[i] != t_list[i]:\n",
    "                return False\n",
    "            \n",
    "        else:\n",
    "            return True"
   ]
  },
  {
   "cell_type": "code",
   "execution_count": 7,
   "metadata": {},
   "outputs": [],
   "source": [
    "def anagram(s,t):\n",
    "        s= s.replace(' ','')\n",
    "        t= t.replace(' ','')\n",
    "        \n",
    "        if(len(s) != len(t)):\n",
    "            return False\n",
    "        \n",
    "        s_list=[None]*len(s)\n",
    "        t_list=[None]*len(s)\n",
    "        \n",
    "        \n",
    "        for i in range(len(s)):\n",
    "            s_list[i] = s[i]\n",
    "            t_list[i] = t[i]\n",
    "            \n",
    "        s_list.sort()\n",
    "        t_list.sort()\n",
    "\n",
    "        if s_list == t_list:\n",
    "            return True\n",
    "        else:\n",
    "            return False"
   ]
  },
  {
   "cell_type": "code",
   "execution_count": 9,
   "metadata": {
    "collapsed": true
   },
   "outputs": [],
   "source": [
    "def anagram(s,t):\n",
    "        s= s.replace(' ','')\n",
    "        t= t.replace(' ','')\n",
    "        \n",
    "        if(len(s) != len(t)):\n",
    "            return False\n",
    "\n",
    "        if sorted(s) ==sorted(t):\n",
    "            return True\n",
    "        else:\n",
    "            return False"
   ]
  },
  {
   "cell_type": "code",
   "execution_count": null,
   "metadata": {
    "collapsed": true
   },
   "outputs": [],
   "source": [
    "def anagram(s,t):\n",
    "    # make use of a hashtable"
   ]
  },
  {
   "cell_type": "code",
   "execution_count": 10,
   "metadata": {},
   "outputs": [
    {
     "name": "stdout",
     "output_type": "stream",
     "text": [
      "ALL TEST CASES PASSED\n"
     ]
    }
   ],
   "source": [
    "\"\"\"\n",
    "RUN THIS CELL TO TEST YOUR SOLUTION\n",
    "\"\"\"\n",
    "from nose.tools import assert_equal\n",
    "\n",
    "class AnagramTest(object):\n",
    "    \n",
    "    def test(self,sol):\n",
    "        assert_equal(sol('go go go','gggooo'),True)\n",
    "        assert_equal(sol('abc','cba'),True)\n",
    "        assert_equal(sol('hi man','hi     man'),True)\n",
    "        assert_equal(sol('aabbcc','aabbc'),False)\n",
    "        assert_equal(sol('123','1 2'),False)\n",
    "        print('ALL TEST CASES PASSED')\n",
    "\n",
    "# Run Tests\n",
    "t = AnagramTest()\n",
    "t.test(anagram)"
   ]
  },
  {
   "cell_type": "code",
   "execution_count": null,
   "metadata": {
    "collapsed": true
   },
   "outputs": [],
   "source": []
  }
 ],
 "metadata": {
  "kernelspec": {
   "display_name": "Python 3",
   "language": "python",
   "name": "python3"
  },
  "language_info": {
   "codemirror_mode": {
    "name": "ipython",
    "version": 3
   },
   "file_extension": ".py",
   "mimetype": "text/x-python",
   "name": "python",
   "nbconvert_exporter": "python",
   "pygments_lexer": "ipython3",
   "version": "3.7.4"
  }
 },
 "nbformat": 4,
 "nbformat_minor": 2
}
